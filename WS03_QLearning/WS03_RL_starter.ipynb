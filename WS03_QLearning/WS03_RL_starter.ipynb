{
 "cells": [
  {
   "cell_type": "markdown",
   "metadata": {},
   "source": [
    "# 2CSSID-Workshop03. Apprentissage par renforcement"
   ]
  },
  {
   "cell_type": "code",
   "execution_count": 1,
   "metadata": {},
   "outputs": [
    {
     "data": {
      "text/plain": [
       "('1.24.3', '2.0.3', '3.7.2')"
      ]
     },
     "execution_count": 1,
     "metadata": {},
     "output_type": "execute_result"
    }
   ],
   "source": [
    "import matplotlib\n",
    "import numpy             as np\n",
    "import pandas            as pd\n",
    "import matplotlib.pyplot as plt\n",
    "%matplotlib inline\n",
    "\n",
    "np.__version__, pd.__version__, matplotlib.__version__"
   ]
  },
  {
   "cell_type": "code",
   "execution_count": 2,
   "metadata": {},
   "outputs": [],
   "source": [
    "from typing import Tuple, List, Type, Dict, Set"
   ]
  },
  {
   "cell_type": "markdown",
   "metadata": {},
   "source": [
    "## 1. Agent\n",
    "\n",
    "### 1.1. Création de la table Q"
   ]
  },
  {
   "cell_type": "code",
   "execution_count": 3,
   "metadata": {},
   "outputs": [
    {
     "data": {
      "text/plain": [
       "array([[0., 0., 0.],\n",
       "       [0., 0., 0.],\n",
       "       [0., 0., 0.],\n",
       "       [0., 0., 0.],\n",
       "       [0., 0., 0.]])"
      ]
     },
     "execution_count": 3,
     "metadata": {},
     "output_type": "execute_result"
    }
   ],
   "source": [
    "# TODO: Création de la table Q\n",
    "def creer_Q(nbr_etats: int, nbr_actions: int) -> np.ndarray:\n",
    "    return np.zeros([nbr_etats, nbr_actions])\n",
    "\n",
    "#=====================================================================\n",
    "# TEST UNITAIRE\n",
    "#=====================================================================\n",
    "# Resultat : \n",
    "# array([[0., 0., 0.],\n",
    "#        [0., 0., 0.],\n",
    "#        [0., 0., 0.],\n",
    "#        [0., 0., 0.],\n",
    "#        [0., 0., 0.]])\n",
    "#---------------------------------------------------------------------\n",
    "\n",
    "Q5_3 = creer_Q(5, 3)\n",
    "\n",
    "Q5_3"
   ]
  },
  {
   "cell_type": "markdown",
   "metadata": {},
   "source": [
    "### 1.2. Choix de l'action suivante"
   ]
  },
  {
   "cell_type": "code",
   "execution_count": 4,
   "metadata": {},
   "outputs": [
    {
     "data": {
      "text/plain": [
       "2"
      ]
     },
     "execution_count": 4,
     "metadata": {},
     "output_type": "execute_result"
    }
   ],
   "source": [
    "# TODO: Exploration\n",
    "def exploration(Q: np.ndarray) -> int:\n",
    "    return np.random.randint(0, Q.shape[1])\n",
    "\n",
    "#=====================================================================\n",
    "# TEST UNITAIRE\n",
    "#=====================================================================\n",
    "# Resultat : \n",
    "# un nombre aléatoire dans {0, 1, 2}\n",
    "#---------------------------------------------------------------------\n",
    "\n",
    "exploration(Q5_3)"
   ]
  },
  {
   "cell_type": "code",
   "execution_count": 5,
   "metadata": {},
   "outputs": [
    {
     "data": {
      "text/plain": [
       "(2, 0, 1, 2, 1)"
      ]
     },
     "execution_count": 5,
     "metadata": {},
     "output_type": "execute_result"
    }
   ],
   "source": [
    "# TODO: Exploitation\n",
    "def exploitation(Q: np.ndarray, etat: int) -> int:\n",
    "    return np.argmax(Q[etat])\n",
    "\n",
    "#=====================================================================\n",
    "# TEST UNITAIRE\n",
    "#=====================================================================\n",
    "# Resultat : \n",
    "# (2, 0, 1, 2, 1)\n",
    "#---------------------------------------------------------------------\n",
    "\n",
    "Q_t = np.array([\n",
    "    [0.1, 0.2, 0.3],\n",
    "    [1.0, 0.5, 0.7],\n",
    "    [0.5, 1.0, 0.8],\n",
    "    [0.2, 0.8, 0.9],\n",
    "    [0.2, 1.0, 0.3]\n",
    "])\n",
    "\n",
    "exploitation(Q_t, 0), exploitation(Q_t, 1), exploitation(Q_t, 2), exploitation(Q_t, 3), exploitation(Q_t, 4)"
   ]
  },
  {
   "cell_type": "code",
   "execution_count": 6,
   "metadata": {},
   "outputs": [
    {
     "data": {
      "text/plain": [
       "2"
      ]
     },
     "execution_count": 6,
     "metadata": {},
     "output_type": "execute_result"
    }
   ],
   "source": [
    "# TODO: Choix de l'action\n",
    "def choisir_action(Q: np.ndarray, etat: int, epsilon: float=0.2) -> int:\n",
    "    return np.random.choice([exploration(Q), exploitation(Q, etat=etat)], p=[epsilon, 1-epsilon])\n",
    "\n",
    "#=====================================================================\n",
    "# TEST UNITAIRE\n",
    "#=====================================================================\n",
    "# Resultat : \n",
    "# Soit 2 soit un autre nombre dans {0, 1, 2}\n",
    "#---------------------------------------------------------------------\n",
    "\n",
    "choisir_action(Q_t, 0)"
   ]
  },
  {
   "cell_type": "markdown",
   "metadata": {},
   "source": [
    "### 1.3. Mise à jours de la table Q\n",
    "\n",
    "$$\n",
    "Q(s_t, a_t) = Q(s_t, a_t) + \\alpha * (r + \\gamma * \\max_a Q(s_{t+1}, a) - Q(s_t, a_t))\n",
    "$$"
   ]
  },
  {
   "cell_type": "code",
   "execution_count": 7,
   "metadata": {},
   "outputs": [
    {
     "data": {
      "text/plain": [
       "array([[0.1 , 0.2 , 0.3 ],\n",
       "       [1.  , 0.5 , 1.58],\n",
       "       [0.5 , 1.  , 0.8 ],\n",
       "       [0.2 , 0.8 , 0.9 ],\n",
       "       [0.2 , 1.  , 0.3 ]])"
      ]
     },
     "execution_count": 7,
     "metadata": {},
     "output_type": "execute_result"
    }
   ],
   "source": [
    "# TODO: Mise à jours de la table Q\n",
    "def mettre_ajour_Q(Q: np.ndarray, etat: int, netat: int, action: int, alpha: float, r: float, gamma: float) -> np.ndarray:\n",
    "    new_Q = Q.copy()\n",
    "    new_Q[etat, action] = new_Q[etat, action] + alpha * (r + gamma * np.max(new_Q[netat]) - new_Q[etat, action])\n",
    "    return new_Q\n",
    "\n",
    "#=====================================================================\n",
    "# TEST UNITAIRE\n",
    "#=====================================================================\n",
    "# Resultat : \n",
    "# array([[0.1 , 0.2 , 0.3 ],\n",
    "#        [1.  , 0.5 , 1.58],\n",
    "#        [0.5 , 1.  , 0.8 ],\n",
    "#        [0.2 , 0.8 , 0.9 ],\n",
    "#        [0.2 , 1.  , 0.3 ]])\n",
    "#---------------------------------------------------------------------\n",
    "\n",
    "mettre_ajour_Q(Q_t, 1, 2, 2, 0.2, 5, 0.1)"
   ]
  },
  {
   "cell_type": "markdown",
   "metadata": {},
   "source": [
    "### 1.4. Classe Agent"
   ]
  },
  {
   "cell_type": "code",
   "execution_count": 8,
   "metadata": {},
   "outputs": [
    {
     "data": {
      "text/plain": [
       "array([[-2.  ,  4.  ,  0.  ],\n",
       "       [-0.36, -0.2 , -2.  ],\n",
       "       [ 0.  ,  0.  ,  0.  ],\n",
       "       [-0.2 ,  0.4 ,  0.  ],\n",
       "       [ 2.  ,  0.  ,  0.  ]])"
      ]
     },
     "execution_count": 8,
     "metadata": {},
     "output_type": "execute_result"
    }
   ],
   "source": [
    "class Agent:\n",
    "    def __init__(self, nbr_etats: int, nbr_actions: int, alpha: float, epsilon=0.2):\n",
    "        self.alpha = alpha\n",
    "        self.epsilon = epsilon\n",
    "        self.Q = creer_Q(nbr_etats, nbr_actions)\n",
    "    \n",
    "    def set_etat(self, etat: int):\n",
    "        self.etat = etat\n",
    "        self.action = 0\n",
    "        \n",
    "    def choisir_action(self):\n",
    "        self.action = choisir_action(self.Q, self.etat, self.epsilon)\n",
    "        return self.action\n",
    "    \n",
    "    def appliquer(self, netat: int, action: int, r: float, gamma: float):\n",
    "        self.Q = mettre_ajour_Q(self.Q, self.etat, netat, self.action, self.alpha, r, gamma)\n",
    "        self.etat = netat\n",
    "        \n",
    "\n",
    "#=====================================================================\n",
    "# TEST UNITAIRE\n",
    "#=====================================================================\n",
    "# Resultat : \n",
    "# array([[-2.  ,  4.  ,  0.  ],\n",
    "#        [-0.36, -0.2 , -2.  ],\n",
    "#        [ 0.  ,  0.  ,  0.  ],\n",
    "#        [-0.2 ,  0.4 ,  0.  ],\n",
    "#        [ 2.  ,  0.  ,  0.  ]])\n",
    "#---------------------------------------------------------------------\n",
    "\n",
    "netats_rs = [(0, -1), (1, -10), (3, -1), (1, 2), (4, -1), (1, 10), (1, -10), (0, -1), (0, 20)]\n",
    "\n",
    "agent = Agent(5, 3, 0.2, epsilon=0.) # exploitation: pour qu'il soit déterministe\n",
    "agent.set_etat(3) # etat initial = 3\n",
    "\n",
    "for netat, r in netats_rs:\n",
    "    action = agent.choisir_action()\n",
    "    # FeedBack de l'environnement (netat, r)\n",
    "    agent.appliquer(netat, action, r, gamma=0.5)\n",
    "    \n",
    "\n",
    "agent.Q"
   ]
  },
  {
   "cell_type": "markdown",
   "metadata": {},
   "source": [
    "## 2. Environnement\n",
    "\n",
    "\n",
    "### 2.1. États"
   ]
  },
  {
   "cell_type": "code",
   "execution_count": 9,
   "metadata": {},
   "outputs": [
    {
     "data": {
      "text/plain": [
       "153"
      ]
     },
     "execution_count": 9,
     "metadata": {},
     "output_type": "execute_result"
    }
   ],
   "source": [
    "def encoder_etat(pos: Tuple[int, int], psg: int, dst: int, nb_l: int, nb_c: int, nb_a: int) -> int:\n",
    "    return (pos[0] * nb_c + pos[1]) * (nb_a + 1) * nb_a + (psg * nb_a + dst)\n",
    "\n",
    "#=====================================================================\n",
    "# TEST UNITAIRE\n",
    "#=====================================================================\n",
    "# Resultat : \n",
    "# 153\n",
    "#---------------------------------------------------------------------\n",
    "\n",
    "encoder_etat((1, 2), 3, 1, 5, 5, 4)"
   ]
  },
  {
   "cell_type": "code",
   "execution_count": 10,
   "metadata": {},
   "outputs": [
    {
     "data": {
      "text/plain": [
       "(1, 2, 3, 1)"
      ]
     },
     "execution_count": 10,
     "metadata": {},
     "output_type": "execute_result"
    }
   ],
   "source": [
    "def decoder_etat(etat: int, nb_l:int, nb_c: int, nb_a: int) -> Tuple[int, int, int, int]:\n",
    "    nb_pa = (nb_a + 1) * nb_a # nombre max des positions passager * arret par case\n",
    "    \n",
    "    pa = etat % nb_pa # position passager * position arret\n",
    "    dst = pa % nb_a\n",
    "    psg = pa// nb_a\n",
    "    \n",
    "    lc = etat // nb_pa # ligne * colonne\n",
    "    l = lc // nb_c\n",
    "    c = lc % nb_c\n",
    "    \n",
    "    return l, c, psg, dst\n",
    "\n",
    "#=====================================================================\n",
    "# TEST UNITAIRE\n",
    "#=====================================================================\n",
    "# Resultat : \n",
    "# (1, 2, 3, 1)\n",
    "#---------------------------------------------------------------------\n",
    "\n",
    "decoder_etat(153, 5, 5, 4)"
   ]
  },
  {
   "cell_type": "markdown",
   "metadata": {},
   "source": [
    "### 2.2. Actions"
   ]
  },
  {
   "cell_type": "code",
   "execution_count": 11,
   "metadata": {},
   "outputs": [
    {
     "data": {
      "text/plain": [
       "((2, 2), (1, 2), (1, 1))"
      ]
     },
     "execution_count": 11,
     "metadata": {},
     "output_type": "execute_result"
    }
   ],
   "source": [
    "def repositionner(pos: Tuple[int, int], action: int) -> Tuple[int, int]:  \n",
    "    if action == 0: # gauche\n",
    "        return pos[0], pos[1]  - 1\n",
    "    if action == 1: # droit\n",
    "        return pos[0], pos[1]  + 1\n",
    "    if action == 2: # avant \n",
    "        return pos[0] + 1, pos[1]\n",
    "    if action == 3: # arrière\n",
    "        return pos[0] - 1, pos[1]\n",
    "    \n",
    "    return pos # action > 3\n",
    "\n",
    "#=====================================================================\n",
    "# TEST UNITAIRE\n",
    "#=====================================================================\n",
    "# Resultat : \n",
    "# ((2, 2), (1, 2), (1, 1))\n",
    "#---------------------------------------------------------------------\n",
    "\n",
    "repositionner((1, 2), 2), repositionner((1, 2), 4), repositionner((1, 2), 0)"
   ]
  },
  {
   "cell_type": "markdown",
   "metadata": {},
   "source": [
    "### 2.3. Récompense"
   ]
  },
  {
   "cell_type": "code",
   "execution_count": 12,
   "metadata": {},
   "outputs": [
    {
     "data": {
      "text/plain": [
       "[(-11, 56, False),\n",
       " (-11, 44, False),\n",
       " (-1, 96, False),\n",
       " (19, 0, True),\n",
       " (-11, 4, False),\n",
       " (-11, 56, False),\n",
       " (-11, 44, False),\n",
       " (-1, 44, False),\n",
       " (-1, 304, False),\n",
       " (-1, 224, False)]"
      ]
     },
     "execution_count": 12,
     "metadata": {},
     "output_type": "execute_result"
    }
   ],
   "source": [
    "# TODO: Récompense\n",
    "def verifier_action(etat: int, action: int, \n",
    "                    nb_l: int, nb_c: int, \n",
    "                    arrets: List[Tuple[int, int]], \n",
    "                    bar: Dict[Tuple[int, int], Set[int]]) -> Tuple[int, bool]: \n",
    "    \n",
    "    nb_a = len(arrets)\n",
    "    l, c, psg, dst = decoder_etat(etat, nb_l, nb_c, nb_a)\n",
    "    match action:\n",
    "        case 5: #deposer\n",
    "            if((psg != nb_a) or ((l,c) != arrets[dst])):# le passager n'est pas dans le taxi, or deposer mais pas dans son dst\n",
    "                return (-10, False)\n",
    "            else:\n",
    "                return (20, True)\n",
    "            \n",
    "        case 4: #prendre\n",
    "            if((psg == nb_a) or ((l, c) != arrets[psg])):# le passager est déjà dans la voiture ou il n'est pas dans la pos actuelle du taxi\n",
    "                return (-10, False)\n",
    "            else:\n",
    "                return (0, True)\n",
    "            \n",
    "        case _:#moving action (0, 1, 2, 3)\n",
    "            barriere = (l,c) in bar.keys() and bar[(l,c)] == set([action]) \n",
    "            l, c = repositionner((l, c), action=action)\n",
    "\n",
    "            if( \n",
    "                (l >= 0) and (l<= nb_l-1) and (c >= 0) and (c <= nb_c-1)  # on est toujours dans la carte\n",
    "                and not barriere # pas des barrières\n",
    "                ): \n",
    "                return (0, True) #la nouvelle position est juste\n",
    "            else:\n",
    "                return (0, False)\n",
    "\n",
    "def calculer_recompense(etat: int, action: int, \n",
    "                        nb_l:int, nb_c: int, \n",
    "                        arrets: List[Tuple[int, int]],\n",
    "                        bar: Dict[Tuple[int, int], Set[int]]) -> Tuple[float, int, bool]:\n",
    "    \n",
    "    recompense = -1 # Toujours on applique cette récompense\n",
    "    netat = etat\n",
    "    fin = False\n",
    "    nb_a = len(arrets)\n",
    "    l, c, psg, dst = decoder_etat(etat, nb_l, nb_c, nb_a)\n",
    "    pos = (l, c)\n",
    "    # Compléter ici\n",
    "    checking_action = verifier_action(etat=etat, action=action, nb_l=nb_l, nb_c=nb_c, arrets=arrets, bar=bar)\n",
    "    recompense += checking_action[0]\n",
    "\n",
    "    if(checking_action[1] == True):\n",
    "        if(action == 4): #prendre\n",
    "            psg = nb_a\n",
    "        elif(action == 5): #deposer\n",
    "            psg = dst\n",
    "            fin = True\n",
    "        elif(action <= 3):\n",
    "            pos = repositionner(pos=pos, action=action)\n",
    "        \n",
    "        netat = encoder_etat(pos=pos, psg=psg, dst=dst, nb_l=nb_l, nb_c=nb_c, nb_a=nb_a)\n",
    "\n",
    "    return recompense, netat, fin\n",
    "\n",
    "#=====================================================================\n",
    "# TEST UNITAIRE\n",
    "#=====================================================================\n",
    "# Resultat : \n",
    "# [(-11, 56, False),\n",
    "#  (-11, 44, False),\n",
    "#  (-1, 96, False),\n",
    "#  (19, 0, True),\n",
    "#  (-11, 4, False),\n",
    "#  (-11, 56, False),\n",
    "#  (-11, 44, False),\n",
    "#  (-1, 44, False),\n",
    "#  (-1, 304, False),\n",
    "#  (-1, 224, False)]\n",
    "#---------------------------------------------------------------------\n",
    "\n",
    "nb_l, nb_c = 5, 5\n",
    "arrets = [(0,0), (0,4), (4,0), (4,3)]\n",
    "nb_a = len(arrets)\n",
    "barrieres = {\n",
    "    (0, 1): set([1]), # barrière à droit\n",
    "    (0, 2): set([0]), # barrière à gauche\n",
    "    (3, 0): set([1]), # barrière à droit\n",
    "    (4, 0): set([1]), # barrière à droit\n",
    "    (3, 1): set([0]), # barrière à gauche\n",
    "    (4, 1): set([0]), # barrière à gauche\n",
    "    (3, 2): set([1]), # barrière à droit\n",
    "    (4, 2): set([1]), # barrière à droit\n",
    "    (3, 3): set([0]), # barrière à gauche\n",
    "    (4, 3): set([0]), # barrière à gauche\n",
    "}\n",
    "\n",
    "resultats = []\n",
    "\n",
    "tests = [# (etat, action)\n",
    "    # action = 4 (prendre un passager)\n",
    "    (encoder_etat((0, 2), 4, 0, nb_l, nb_c, nb_a), 4), # pos=(0,2); psg=dans la voiture; dst=arrêt0(0, 0)\n",
    "    (encoder_etat((0, 2), 1, 0, nb_l, nb_c, nb_a), 4), # pos=(0,2); psg=arrêt1; dst=arrêt0(0, 0)\n",
    "    (encoder_etat((0, 4), 1, 0, nb_l, nb_c, nb_a), 4), # pos=arrêt1; psg=arrêt1; dst=arrêt0(0, 0)\n",
    "    # action = 5 (déposer un passager)\n",
    "    (encoder_etat((0, 0), 4, 0, nb_l, nb_c, nb_a), 5), # pos=arrêt0; psg=dans la voiture; dst=arrêt0(0, 0)\n",
    "    (encoder_etat((0, 0), 1, 0, nb_l, nb_c, nb_a), 5), # pos=arrêt0; psg=arrêt1; dst=arrêt0(0, 0)\n",
    "    (encoder_etat((0, 2), 4, 0, nb_l, nb_c, nb_a), 5), # pos=(0, 2); psg=dans la voiture; dst=arrêt0(0, 0)\n",
    "    (encoder_etat((0, 2), 1, 0, nb_l, nb_c, nb_a), 5), # pos=(0, 2); psg=arrêt1; dst=arrêt0(0, 0)\n",
    "    # action = 0 (aller à gauche)\n",
    "    (encoder_etat((0, 2), 1, 0, nb_l, nb_c, nb_a), 0), # il existe une barrière à gauche\n",
    "    (encoder_etat((3, 0), 1, 0, nb_l, nb_c, nb_a), 0), # il existe une barrière à droite\n",
    "    (encoder_etat((2, 2), 1, 0, nb_l, nb_c, nb_a), 0), # il n'existe aucune barrière\n",
    "]\n",
    "\n",
    "for etat, action in tests:\n",
    "    resultats.append(calculer_recompense(etat, action, nb_l, nb_c, arrets, barrieres))\n",
    "\n",
    "resultats"
   ]
  },
  {
   "cell_type": "markdown",
   "metadata": {},
   "source": [
    "### 2.3. Classe Envinonnement"
   ]
  },
  {
   "cell_type": "code",
   "execution_count": 13,
   "metadata": {},
   "outputs": [
    {
     "name": "stdout",
     "output_type": "stream",
     "text": [
      "FIN\n"
     ]
    }
   ],
   "source": [
    "import time, sys\n",
    "from IPython.display import HTML, display, clear_output\n",
    "\n",
    "class TaxiEnv():\n",
    "    def __init__(self, nb_l:int, nb_c: int, \n",
    "                 arrets: List[Tuple[int, int]], \n",
    "                 bar: Dict[Tuple[int, int], Set[int]], gamma: float = 0.5):\n",
    "        self.actions = ['gauche', 'droit', 'avant', 'arriere', 'prendre', 'deposer']\n",
    "        self.arrets = arrets\n",
    "        self.nb_l = nb_l\n",
    "        self.nb_c = nb_c\n",
    "        self.nb_etats = nb_l * nb_c * (len(arrets) + 1) * len(arrets)\n",
    "        self.bar = bar\n",
    "        self.gamma = gamma\n",
    "        \n",
    "        for i in range(nb_l):\n",
    "            pos = (i, 0)\n",
    "            if pos not in bar:\n",
    "                bar[pos] = set()\n",
    "            bar[pos].add(0) # on ne peut pas aller à gauche\n",
    "            pos = (i, nb_c-1)\n",
    "            if pos not in bar:\n",
    "                bar[pos] = set()\n",
    "            bar[pos].add(1) # on ne peut pas aller à droit\n",
    "        for j in range(nb_c):\n",
    "            pos = (0, j)\n",
    "            if pos not in bar:\n",
    "                bar[pos] = set()\n",
    "            bar[pos].add(3) # on ne peut pas aller en avant\n",
    "            pos = (nb_l-1, j)\n",
    "            if pos not in bar:\n",
    "                bar[pos] = set()\n",
    "            bar[pos].add(2) # on ne peut pas aller en arrière    \n",
    "        \n",
    "    def ajouter_agent(self, alpha: float, epsilon=0.2):\n",
    "        self.agent = Agent(self.nb_etats, len(self.actions), alpha, epsilon=epsilon)\n",
    "    \n",
    "    def encoder_etat(self, pos: Tuple[int, int], psg: int, dst: int):\n",
    "        return encoder_etat(pos, psg, dst, self.nb_l, self.nb_c, len(self.arrets))\n",
    "    \n",
    "    def decoder_etat(self, etat: int) -> Tuple[int, int, int]:\n",
    "        return decoder_etat(etat, self.nb_l, self.nb_c, len(self.arrets))\n",
    "    \n",
    "    def initialiser(self, pos: Tuple[int, int], psg: int, dst: int):\n",
    "        etat = self.encoder_etat(pos, psg, dst)\n",
    "        self.agent.set_etat(etat)\n",
    "    \n",
    "    def transporter(self, plot=False):\n",
    "        \n",
    "        nb_l = self.nb_l\n",
    "        nb_c = self.nb_c\n",
    "        arrets = self.arrets\n",
    "        bar = self.bar\n",
    "        nb_a = len(arrets)\n",
    "        actions = self.actions\n",
    "        \n",
    "        etat = self.agent.etat\n",
    "        \n",
    "        etapes = []\n",
    "        fin = False\n",
    "        rt = 0\n",
    "        \n",
    "        while not fin:\n",
    "            action = self.agent.choisir_action()\n",
    "            r, netat, fin = calculer_recompense(etat, action, nb_l, nb_c, arrets, bar)\n",
    "            etapes.append((self.decoder_etat(etat), actions[action], r, fin))\n",
    "            self.agent.appliquer(netat, action, r, self.gamma)\n",
    "            if plot:\n",
    "                rt += r\n",
    "                html = self.dessiner()\n",
    "                html += '<div class=\"cont\">'\n",
    "                html += f'<p>Etape: {len(etapes)}</p>'\n",
    "                html += f'<p>Etat: {etat}</p>'\n",
    "                html += f'<p>Action: {actions[action]}</p>'\n",
    "                html += f'<p>Récompense: {r}</p>'\n",
    "                html += f'<p>Récompense totale: {rt}</p>'\n",
    "                html += '</div>'\n",
    "                time.sleep(0.5)\n",
    "                clear_output(wait=True)\n",
    "                display(HTML(html))\n",
    "                sys.stdout.flush()\n",
    "            etat = netat\n",
    " \n",
    "        return etapes\n",
    "    \n",
    "    def dessiner(self):\n",
    "        bordures = ['l', 'r', 'b', 't']\n",
    "        \n",
    "        nb_a = len(self.arrets)\n",
    "        \n",
    "        if hasattr(self.agent, 'etat'):\n",
    "            l, c, psg, dst = decoder_etat(self.agent.etat, self.nb_l, self.nb_c, nb_a)\n",
    "        else:\n",
    "            l, c, psg, dst = None, None, None, None\n",
    "        \n",
    "        html = \"\"\"<style>\n",
    "                div.cont {display:inline-block; margin:5px; vertical-align: top; float: left;}\n",
    "                div.table {display:table;}\n",
    "                div.row {display:table-row; clear: both; width:auto;}\n",
    "                div.cell {display:table-cell; height: 50px; width: 50px; text-align: center; border: 1px dotted black; vertical-align: middle;}\n",
    "                div.l {border-left: 2px solid red ;}\n",
    "                div.r {border-right: 2px solid red ;}\n",
    "                div.b {border-bottom: 2px solid red ;}\n",
    "                div.t {border-top: 2px solid red ; }\n",
    "                div.arret {background: yellow;}\n",
    "                </style>\n",
    "                <div class=\"cont\">\n",
    "                <div class=\"table\">\n",
    "                \"\"\"\n",
    "        for i in range(self.nb_l):\n",
    "            html += '<div class=\"row\">'\n",
    "            for j in range(self.nb_c):\n",
    "                html += '<div class=\"cell '\n",
    "                if (i, j) in self.bar:\n",
    "                    for b in self.bar[(i, j)]:\n",
    "                        html += bordures[b] + ' '\n",
    "                if (i, j) in self.arrets:\n",
    "                    html += 'arret'\n",
    "                html += '\">'\n",
    "                cont = ''\n",
    "                if dst != None and self.arrets[dst] == (i, j):\n",
    "                    cont = '🏲'\n",
    "                if psg != None and psg != nb_a and self.arrets[psg] == (i, j):\n",
    "                    cont += '👽'\n",
    "                if (l, c) == (i, j):\n",
    "                    if psg != None and psg != nb_a:\n",
    "                        cont += '🚖'\n",
    "                    else:\n",
    "                        cont += '🚍'\n",
    "                if not cont:\n",
    "                    cont = ':'\n",
    "                html += cont + '</div>'\n",
    "            html += '</div>'\n",
    "            \n",
    "        html += '</div></div>'\n",
    "\n",
    "        # print(html)\n",
    "        \n",
    "        return html\n",
    "        \n",
    "print('FIN')"
   ]
  },
  {
   "cell_type": "markdown",
   "metadata": {},
   "source": [
    "## 3. Experimentation"
   ]
  },
  {
   "cell_type": "code",
   "execution_count": 14,
   "metadata": {
    "scrolled": true
   },
   "outputs": [
    {
     "data": {
      "text/html": [
       "<style>\n",
       "                div.cont {display:inline-block; margin:5px; vertical-align: top; float: left;}\n",
       "                div.table {display:table;}\n",
       "                div.row {display:table-row; clear: both; width:auto;}\n",
       "                div.cell {display:table-cell; height: 50px; width: 50px; text-align: center; border: 1px dotted black; vertical-align: middle;}\n",
       "                div.l {border-left: 2px solid red ;}\n",
       "                div.r {border-right: 2px solid red ;}\n",
       "                div.b {border-bottom: 2px solid red ;}\n",
       "                div.t {border-top: 2px solid red ; }\n",
       "                div.arret {background: yellow;}\n",
       "                </style>\n",
       "                <div class=\"cont\">\n",
       "                <div class=\"table\">\n",
       "                <div class=\"row\"><div class=\"cell l t arret\">🏲</div><div class=\"cell r t \">:</div><div class=\"cell l t \">:</div><div class=\"cell t \">:</div><div class=\"cell r t arret\">:</div></div><div class=\"row\"><div class=\"cell l \">:</div><div class=\"cell \">:</div><div class=\"cell \">:</div><div class=\"cell \">:</div><div class=\"cell r \">:</div></div><div class=\"row\"><div class=\"cell l \">:</div><div class=\"cell \">:</div><div class=\"cell \">:</div><div class=\"cell \">:</div><div class=\"cell r \">:</div></div><div class=\"row\"><div class=\"cell l r \">:</div><div class=\"cell l \">🚖</div><div class=\"cell r \">:</div><div class=\"cell l \">:</div><div class=\"cell r \">:</div></div><div class=\"row\"><div class=\"cell l r b arret\">👽</div><div class=\"cell l b \">:</div><div class=\"cell r b \">:</div><div class=\"cell l b arret\">:</div><div class=\"cell r b \">:</div></div></div></div>"
      ],
      "text/plain": [
       "<IPython.core.display.HTML object>"
      ]
     },
     "metadata": {},
     "output_type": "display_data"
    }
   ],
   "source": [
    "arrets = [(0,0), (0,4), (4,0), (4,3)]\n",
    "barrieres = {\n",
    "    (0, 1): set([1]), # barrière à droit\n",
    "    (0, 2): set([0]), # barrière à gauche\n",
    "    (3, 0): set([1]), # barrière à droit\n",
    "    (4, 0): set([1]), # barrière à droit\n",
    "    (3, 1): set([0]), # barrière à gauche\n",
    "    (4, 1): set([0]), # barrière à gauche\n",
    "    (3, 2): set([1]), # barrière à droit\n",
    "    (4, 2): set([1]), # barrière à droit\n",
    "    (3, 3): set([0]), # barrière à gauche\n",
    "    (4, 3): set([0]), # barrière à gauche\n",
    "}\n",
    "\n",
    "taxi = TaxiEnv(5, 5, arrets, barrieres)\n",
    "taxi.ajouter_agent(0.1, 0.1)\n",
    "taxi.initialiser((3, 1), 2, 0)\n",
    "\n",
    "\n",
    "html = taxi.dessiner()\n",
    "display(HTML(html))\n",
    "# hist = taxi.transporter(plot=True)"
   ]
  },
  {
   "cell_type": "code",
   "execution_count": 15,
   "metadata": {},
   "outputs": [
    {
     "data": {
      "text/html": [
       "<style>\n",
       "                div.cont {display:inline-block; margin:5px; vertical-align: top; float: left;}\n",
       "                div.table {display:table;}\n",
       "                div.row {display:table-row; clear: both; width:auto;}\n",
       "                div.cell {display:table-cell; height: 50px; width: 50px; text-align: center; border: 1px dotted black; vertical-align: middle;}\n",
       "                div.l {border-left: 2px solid red ;}\n",
       "                div.r {border-right: 2px solid red ;}\n",
       "                div.b {border-bottom: 2px solid red ;}\n",
       "                div.t {border-top: 2px solid red ; }\n",
       "                div.arret {background: yellow;}\n",
       "                </style>\n",
       "                <div class=\"cont\">\n",
       "                <div class=\"table\">\n",
       "                <div class=\"row\"><div class=\"cell l t arret\">🏲👽🚖</div><div class=\"cell r t \">:</div><div class=\"cell l t \">:</div><div class=\"cell t \">:</div><div class=\"cell r t arret\">:</div></div><div class=\"row\"><div class=\"cell l \">:</div><div class=\"cell \">:</div><div class=\"cell \">:</div><div class=\"cell \">:</div><div class=\"cell r \">:</div></div><div class=\"row\"><div class=\"cell l \">:</div><div class=\"cell \">:</div><div class=\"cell \">:</div><div class=\"cell \">:</div><div class=\"cell r \">:</div></div><div class=\"row\"><div class=\"cell l r \">:</div><div class=\"cell l \">:</div><div class=\"cell r \">:</div><div class=\"cell l \">:</div><div class=\"cell r \">:</div></div><div class=\"row\"><div class=\"cell l r b arret\">:</div><div class=\"cell l b \">:</div><div class=\"cell r b \">:</div><div class=\"cell l b arret\">:</div><div class=\"cell r b \">:</div></div></div></div><div class=\"cont\"><p>Etape: 9</p><p>Etat: 16</p><p>Action: deposer</p><p>Récompense: 19</p><p>Récompense totale: 1</p></div>"
      ],
      "text/plain": [
       "<IPython.core.display.HTML object>"
      ]
     },
     "metadata": {},
     "output_type": "display_data"
    }
   ],
   "source": [
    "# Tester après l'exécution de la même initialisation plusieurs fois\n",
    "for i in range(1000):\n",
    "    taxi.initialiser((3, 1), 2, 0)\n",
    "    taxi.transporter() \n",
    "\n",
    "taxi.initialiser((3, 1), 2, 0)\n",
    "hist = taxi.transporter(plot=True)"
   ]
  },
  {
   "cell_type": "code",
   "execution_count": 16,
   "metadata": {},
   "outputs": [
    {
     "data": {
      "text/plain": [
       "[((3, 1, 2, 0), 'avant', -1, False),\n",
       " ((4, 1, 2, 0), 'prendre', -11, False),\n",
       " ((4, 1, 2, 0), 'gauche', -1, False),\n",
       " ((4, 0, 2, 0), 'prendre', -1, False),\n",
       " ((4, 0, 4, 0), 'arriere', -1, False),\n",
       " ((3, 0, 4, 0), 'arriere', -1, False),\n",
       " ((2, 0, 4, 0), 'arriere', -1, False),\n",
       " ((1, 0, 4, 0), 'arriere', -1, False),\n",
       " ((0, 0, 4, 0), 'deposer', 19, True)]"
      ]
     },
     "execution_count": 16,
     "metadata": {},
     "output_type": "execute_result"
    }
   ],
   "source": [
    "# historique des étapes\n",
    "hist"
   ]
  },
  {
   "cell_type": "code",
   "execution_count": 17,
   "metadata": {},
   "outputs": [
    {
     "name": "stdout",
     "output_type": "stream",
     "text": [
      "fin\n"
     ]
    }
   ],
   "source": [
    "# tester l'appentissage avec des initialisations aléatoires\n",
    "arrets2 = [(0,0), (0,4), (4,0), (4,3)]\n",
    "barrieres2 = {\n",
    "    (0, 1): set([1]), # barrière à droit\n",
    "    (0, 2): set([0]), # barrière à gauche\n",
    "    (3, 0): set([1]), # barrière à droit\n",
    "    (4, 0): set([1]), # barrière à droit\n",
    "    (3, 1): set([0]), # barrière à gauche\n",
    "    (4, 1): set([0]), # barrière à gauche\n",
    "    (3, 2): set([1]), # barrière à droit\n",
    "    (4, 2): set([1]), # barrière à droit\n",
    "    (3, 3): set([0]), # barrière à gauche\n",
    "    (4, 3): set([0]), # barrière à gauche\n",
    "}\n",
    "\n",
    "taxi2 = TaxiEnv(5, 5, arrets2, barrieres2)\n",
    "taxi2.ajouter_agent(0.1, 0.1)\n",
    "\n",
    "def exec_aleatoire(taxi_env, plot=False):\n",
    "    pos = np.random.randint(5), np.random.randint(5)\n",
    "    psg, dst = np.random.randint(len(arrets2)), np.random.randint(len(arrets2))\n",
    "    taxi_env.initialiser(pos, psg, dst)\n",
    "    return taxi_env.transporter(plot=plot) \n",
    "\n",
    "for i in range(10000):\n",
    "    exec_aleatoire(taxi2, plot=False)\n",
    "    \n",
    "print('fin')"
   ]
  },
  {
   "cell_type": "code",
   "execution_count": 18,
   "metadata": {},
   "outputs": [
    {
     "data": {
      "text/html": [
       "<style>\n",
       "                div.cont {display:inline-block; margin:5px; vertical-align: top; float: left;}\n",
       "                div.table {display:table;}\n",
       "                div.row {display:table-row; clear: both; width:auto;}\n",
       "                div.cell {display:table-cell; height: 50px; width: 50px; text-align: center; border: 1px dotted black; vertical-align: middle;}\n",
       "                div.l {border-left: 2px solid red ;}\n",
       "                div.r {border-right: 2px solid red ;}\n",
       "                div.b {border-bottom: 2px solid red ;}\n",
       "                div.t {border-top: 2px solid red ; }\n",
       "                div.arret {background: yellow;}\n",
       "                </style>\n",
       "                <div class=\"cont\">\n",
       "                <div class=\"table\">\n",
       "                <div class=\"row\"><div class=\"cell l t arret\">🏲👽🚖</div><div class=\"cell r t \">:</div><div class=\"cell l t \">:</div><div class=\"cell t \">:</div><div class=\"cell r t arret\">:</div></div><div class=\"row\"><div class=\"cell l \">:</div><div class=\"cell \">:</div><div class=\"cell \">:</div><div class=\"cell \">:</div><div class=\"cell r \">:</div></div><div class=\"row\"><div class=\"cell l \">:</div><div class=\"cell \">:</div><div class=\"cell \">:</div><div class=\"cell \">:</div><div class=\"cell r \">:</div></div><div class=\"row\"><div class=\"cell l r \">:</div><div class=\"cell l \">:</div><div class=\"cell r \">:</div><div class=\"cell l \">:</div><div class=\"cell r \">:</div></div><div class=\"row\"><div class=\"cell l r b arret\">:</div><div class=\"cell l b \">:</div><div class=\"cell r b \">:</div><div class=\"cell l b arret\">:</div><div class=\"cell r b \">:</div></div></div></div><div class=\"cont\"><p>Etape: 14</p><p>Etat: 16</p><p>Action: deposer</p><p>Récompense: 19</p><p>Récompense totale: 6</p></div>"
      ],
      "text/plain": [
       "<IPython.core.display.HTML object>"
      ]
     },
     "metadata": {},
     "output_type": "display_data"
    }
   ],
   "source": [
    "hist = exec_aleatoire(taxi2, plot=True)"
   ]
  }
 ],
 "metadata": {
  "kernelspec": {
   "display_name": "Python 3 (ipykernel)",
   "language": "python",
   "name": "python3"
  },
  "language_info": {
   "codemirror_mode": {
    "name": "ipython",
    "version": 3
   },
   "file_extension": ".py",
   "mimetype": "text/x-python",
   "name": "python",
   "nbconvert_exporter": "python",
   "pygments_lexer": "ipython3",
   "version": "3.11.5"
  }
 },
 "nbformat": 4,
 "nbformat_minor": 2
}
